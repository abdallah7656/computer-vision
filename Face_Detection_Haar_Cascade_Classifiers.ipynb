{
 "cells": [
  {
   "cell_type": "code",
   "execution_count": 1,
   "metadata": {
    "colab": {
     "base_uri": "https://localhost:8080/"
    },
    "id": "bmAslFALfgiw",
    "outputId": "2c76a698-b0f3-4368-de1e-c13de6520c80"
   },
   "outputs": [
    {
     "name": "stderr",
     "output_type": "stream",
     "text": [
      "Cloning into 'Face-Detection-using-Haar-Cascade-Classifiers-'...\n"
     ]
    }
   ],
   "source": [
    "!git clone https://github.com/AhmedIbrahimai/Face-Detection-using-Haar-Cascade-Classifiers-.git"
   ]
  },
  {
   "cell_type": "code",
   "execution_count": 10,
   "metadata": {
    "id": "kSybwdsjf5uX"
   },
   "outputs": [],
   "source": [
    "import numpy as np \n",
    "import cv2 \n",
    "import os \n",
    "os.chdir(r\"C:\\Users\\abdal\\Face-Detection-using-Haar-Cascade-Classifiers-\")\n",
    "\n",
    "\n"
   ]
  },
  {
   "cell_type": "code",
   "execution_count": null,
   "metadata": {},
   "outputs": [],
   "source": []
  },
  {
   "cell_type": "code",
   "execution_count": 12,
   "metadata": {
    "id": "lo-fr_SogdG9"
   },
   "outputs": [],
   "source": [
    "cap =cv2.VideoCapture(0)\n",
    "\n",
    "face_cascade =cv2.CascadeClassifier(\"haarcascade_frontalface_default.xml\")\n",
    "eyes_cascade =cv2.CascadeClassifier(\"haarcascade_eye.xml\")\n",
    "\n",
    "while(cap.isOpened()):\n",
    "    ret ,frame =cap.read()\n",
    "    \n",
    "    gray =cv2.cvtColor(frame,cv2.COLOR_BGR2GRAY)\n",
    "    \n",
    "    faces =face_cascade.detectMultiScale(gray ,1.3 , 4)\n",
    "    for (x,y,h,w) in faces :\n",
    "        cv2.rectangle(frame ,(x,y),(x+w ,y+h),(0,255,0),3)       \n",
    "        roi_gray=gray[y:y+h ,x:x+w]       \n",
    "        roi_color=frame[y:y+h ,x:x+w]       \n",
    "        eyes =eyes_cascade.detectMultiScale(roi_gray)       \n",
    "        for(ex,ey,eh,ew) in eyes :      \n",
    "            cv2.rectangle(roi_color ,(ex,ey),(ex+ew ,ey+eh),(0,0,255),3)            \n",
    "  \n",
    "    \n",
    "    cv2.imshow(\"frame\" ,frame)\n",
    "    \n",
    "    key =cv2.waitKey(1)\n",
    "    if(key == 27):\n",
    "        break \n",
    "        \n",
    "cap.release()\n",
    "cv2.destroyAllWindows()"
   ]
  },
  {
   "cell_type": "code",
   "execution_count": 4,
   "metadata": {},
   "outputs": [],
   "source": [
    "# cap.release()\n",
    "# cv2.destroyAllWindows()"
   ]
  },
  {
   "cell_type": "code",
   "execution_count": null,
   "metadata": {
    "id": "WENbvVG5f56b"
   },
   "outputs": [],
   "source": []
  },
  {
   "cell_type": "code",
   "execution_count": null,
   "metadata": {
    "id": "DVbvdIIcf574"
   },
   "outputs": [],
   "source": []
  },
  {
   "cell_type": "code",
   "execution_count": null,
   "metadata": {
    "id": "u7Em66vif5_p"
   },
   "outputs": [],
   "source": []
  },
  {
   "cell_type": "code",
   "execution_count": null,
   "metadata": {
    "id": "h4PGToynf6Dy"
   },
   "outputs": [],
   "source": []
  },
  {
   "cell_type": "markdown",
   "metadata": {
    "id": "tMkHZ_cNgBSe"
   },
   "source": [
    "# references\n",
    "\n",
    "vedio  and data\n",
    "\n",
    "https://ahmedibrahimcv.blogspot.com/2022/12/computer-visionface-detection-using.html\n",
    "\n",
    "\n",
    "................\n",
    "\n",
    "\n",
    "https://www.mygreatlearning.com/blog/viola-jones-algorithm/\n",
    "\n",
    "https://docs.opencv.org/4.0.0/d7/d8b/tutorial_py_face_detection.html\n",
    "\n"
   ]
  },
  {
   "cell_type": "code",
   "execution_count": null,
   "metadata": {
    "id": "E9_0VyPpf6HD"
   },
   "outputs": [],
   "source": []
  }
 ],
 "metadata": {
  "colab": {
   "provenance": []
  },
  "kernelspec": {
   "display_name": "Python 3 (ipykernel)",
   "language": "python",
   "name": "python3"
  },
  "language_info": {
   "codemirror_mode": {
    "name": "ipython",
    "version": 3
   },
   "file_extension": ".py",
   "mimetype": "text/x-python",
   "name": "python",
   "nbconvert_exporter": "python",
   "pygments_lexer": "ipython3",
   "version": "3.9.12"
  }
 },
 "nbformat": 4,
 "nbformat_minor": 1
}

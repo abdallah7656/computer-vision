{
 "cells": [
  {
   "cell_type": "code",
   "execution_count": null,
   "id": "4e37979e",
   "metadata": {},
   "outputs": [],
   "source": [
    "\n",
    "!git clone https://github.com/AhmedIbrahimai/Face-Detection-using-Haar-Cascade-Classifiers-.git\n"
   ]
  },
  {
   "cell_type": "code",
   "execution_count": 1,
   "id": "347b9e4b",
   "metadata": {},
   "outputs": [],
   "source": [
    "import numpy as np \n",
    "import cv2 \n",
    "import os \n",
    "\n",
    "os.chdir(r\"C:\\Users\\abdal\\Face-Detection-using-Haar-Cascade-Classifiers-\")\n",
    "\n"
   ]
  },
  {
   "cell_type": "code",
   "execution_count": 2,
   "id": "ffc1dd24",
   "metadata": {},
   "outputs": [],
   "source": [
    "cap =cv2.VideoCapture(0)\n",
    "\n",
    "face_cascade =cv2.CascadeClassifier(\"haarcascade_frontalface_default.xml\")\n",
    "eyes_cascade =cv2.CascadeClassifier(\"haarcascade_eye.xml\")\n",
    "\n",
    "while(cap.isOpened()):\n",
    "    ret ,frame =cap.read()          \n",
    "    \n",
    "    gray =cv2.cvtColor(frame,cv2.COLOR_BGR2GRAY)           \n",
    "    \n",
    "    faces =face_cascade.detectMultiScale(gray ,1.3 , 4)\n",
    "    for (x,y,h,w) in faces :\n",
    "        cv2.rectangle(frame ,(x,y),(x+w ,y+h),(0,255,0),3)       \n",
    "        roi_gray=gray[y:y+h ,x:x+w]       \n",
    "        roi_color=frame[y:y+h ,x:x+w]       \n",
    "        eyes =eyes_cascade.detectMultiScale(roi_gray)       \n",
    "        for(ex,ey,eh,ew) in eyes :      \n",
    "            cv2.rectangle(roi_color ,(ex,ey),(ex+ew ,ey+eh),(0,0,255),3)            \n",
    "  \n",
    "    \n",
    "    cv2.imshow(\"frame\" ,frame)\n",
    "    \n",
    "    key =cv2.waitKey(1)\n",
    "    if(key == 27):\n",
    "        break \n",
    "        \n",
    "cap.release()\n",
    "cv2.destroyAllWindows()"
   ]
  },
  {
   "cell_type": "markdown",
   "id": "62738106",
   "metadata": {},
   "source": [
    "# references\n",
    "\n",
    "vedio  and data\n",
    "\n",
    "https://ahmedibrahimcv.blogspot.com/2022/12/computer-visioneye-detection-using-open.html"
   ]
  },
  {
   "cell_type": "code",
   "execution_count": null,
   "id": "c000ac12",
   "metadata": {},
   "outputs": [],
   "source": []
  }
 ],
 "metadata": {
  "kernelspec": {
   "display_name": "Python 3 (ipykernel)",
   "language": "python",
   "name": "python3"
  },
  "language_info": {
   "codemirror_mode": {
    "name": "ipython",
    "version": 3
   },
   "file_extension": ".py",
   "mimetype": "text/x-python",
   "name": "python",
   "nbconvert_exporter": "python",
   "pygments_lexer": "ipython3",
   "version": "3.9.12"
  }
 },
 "nbformat": 4,
 "nbformat_minor": 5
}
